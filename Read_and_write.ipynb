{
 "cells": [
  {
   "cell_type": "markdown",
   "metadata": {},
   "source": [
    "# File Reading Tutorial"
   ]
  },
  {
   "cell_type": "markdown",
   "metadata": {},
   "source": [
    "File reading is **reading, writing, or manipulating** data within a file.\n",
    "\n",
    "Before we can read a file, we need to make sure we have a file to work with. To do this, we’ll open up a text editor and create a new txt file, let's call it 'input.txt'.\n",
    "\n",
    "Our Python file must be located within the same directory as the txt file to open it.\n"
   ]
  },
  {
   "cell_type": "markdown",
   "metadata": {},
   "source": [
    "Let us set the contents of 'input.txt' to the following lines of number:\n",
    "```\n",
    "12\n",
    "32\n",
    "134\n",
    "123\n",
    "21\n",
    "12\n",
    "5\n",
    "6\n",
    "21\n",
    "```"
   ]
  },
  {
   "cell_type": "markdown",
   "metadata": {},
   "source": [
    "We will then use Python's open() function to open our input.txt file. The open() function requires as its first argument the file path. The function also allows for other parameters that specifies the mode in which the file is opened. The mode you choose will depend on what you wish to do with the file. \n",
    "\n",
    "These are some parameters which we will use:\n",
    "\n",
    "* 'r' : use for reading\n",
    "* 'w' : use for writing\n"
   ]
  },
  {
   "cell_type": "markdown",
   "metadata": {
    "slideshow": {
     "slide_type": "-"
    }
   },
   "source": [
    "In this example, we want to read from the file, so we will use the *'r'* mode. We will use the open() function to open the input.txt file. For now, we will refer to the name of the file, 'input.txt' as filename. We will pass 'input.txt' into the function read_file() later on.\n",
    "\n",
    "The function will start like this:\n",
    "\n",
    "```python\n",
    "def read_file(filename):\n",
    "    with open (filename,'r') as f:\n",
    "```"
   ]
  },
  {
   "cell_type": "markdown",
   "metadata": {},
   "source": [
    "Note that filename must be a string which corresponds to the name of the .txt file (including the .txt extension), and 'f' is the name of the object we have assigned the file to. 'f' is now a file object with methods, such as .read(), which will go through and store the contents within the file object. We must assign whatever is read within a variable.\n",
    "\n",
    "```python\n",
    "lines = f.read()\n",
    "```"
   ]
  },
  {
   "cell_type": "markdown",
   "metadata": {},
   "source": [
    "Closing a file makes sure that the connection between the file being read and the file which is reading is ended. Closing files also ensures that other programs are able to access them and keeps your data safe. So, it is a good habit to close your files, although not doing so will not affect your outputs.\n",
    "\n",
    "```python\n",
    "f.close()\n",
    "```"
   ]
  },
  {
   "cell_type": "markdown",
   "metadata": {},
   "source": [
    "To output the information within the file, remember to return the variable storing the data. When put together, a file reading function will look like this:"
   ]
  },
  {
   "cell_type": "code",
   "execution_count": 1,
   "metadata": {
    "collapsed": true
   },
   "outputs": [
    {
     "name": "stdout",
     "output_type": "stream",
     "text": [
      "12\n",
      "32\n",
      "134\n",
      "123\n",
      "21\n",
      "12\n",
      "5\n",
      "6\n",
      "21\n",
      "\n"
     ]
    }
   ],
   "source": [
    "def read_file(filename):\n",
    "    \n",
    "    with open (filename,'r') as f:\n",
    "        lines = f.read()\n",
    "    f.close()\n",
    "    \n",
    "    return lines\n",
    "print(read_file('input.txt'))"
   ]
  },
  {
   "cell_type": "markdown",
   "metadata": {},
   "source": [
    "Another way to read a file is using lists and the method .readline(), which reads a single line within the file each time it is called. When we call it again, it proceeds to the next line. We can create a list and append into it each line of the file. The while loop will continue to run until the end of the file, where there is no more text and f.readline() gives us 'None'.\n",
    "\n",
    "<strong>Note</strong>: Even if there are empty lines in between lines of text, the while loop will not stop running."
   ]
  },
  {
   "cell_type": "code",
   "execution_count": 2,
   "metadata": {
    "collapsed": true
   },
   "outputs": [
    {
     "name": "stdout",
     "output_type": "stream",
     "text": [
      "['12\\n', '32\\n', '134\\n', '123\\n', '21\\n', '12\\n', '5\\n', '6\\n', '21\\n']\n"
     ]
    }
   ],
   "source": [
    "def read_file_line_by_line(filename):\n",
    "    lst = []\n",
    "    with open (filename,'r') as f:\n",
    "        line = f.readline()\n",
    "        while line:\n",
    "            lst.append(line)\n",
    "            line = f.readline()\n",
    "    f.close()\n",
    "    return lst\n",
    "print(read_file_line_by_line('input.txt'))"
   ]
  },
  {
   "cell_type": "markdown",
   "metadata": {},
   "source": [
    "However, each line will end with '\\n'. This is considered as a **single character**, known as a line feed character, which indicates the start of a new line (everytime you hit enter, an invisible line feed will be added to the end of the line before you are directed to a new one). Hence, we can leave it out by appending up to the **last letter of each line**. \n",
    "\n",
    "Let's assume that the last line of 'input.txt' does not contain a line feed. Obviously, this does not apply to all files and you should open up any txt file to check if the last line ends with a line feed before you start reading it."
   ]
  },
  {
   "cell_type": "code",
   "execution_count": 3,
   "metadata": {
    "collapsed": true
   },
   "outputs": [
    {
     "name": "stdout",
     "output_type": "stream",
     "text": [
      "['12', '32', '134', '123', '21', '12', '5', '6', '21']\n"
     ]
    }
   ],
   "source": [
    "def read_file_line_by_line(filename):\n",
    "    result = []\n",
    "    with open (filename,'r') as f:\n",
    "        # assigns line\n",
    "        line = f.readline()\n",
    "        \n",
    "        # loops when line is not empty and the last character is a line feed\n",
    "        while line and line[-1]=='\\n': \n",
    "            if len(line) > 1:\n",
    "                # add to result when line is not empty (excluding the line feed)\n",
    "                # the line feed character is not appended due to line[-1]\n",
    "                result.append(line[:-1])\n",
    "            line = f.readline()\n",
    "        \n",
    "        if line:\n",
    "            # line has something and is the last line of the text file\n",
    "            # It will not have a line feed character because it is the last line. \n",
    "            result.append(line)\n",
    "    f.close()\n",
    "    return result\n",
    "print(read_file_line_by_line('input.txt'))"
   ]
  },
  {
   "cell_type": "markdown",
   "metadata": {},
   "source": [
    "Since we are working with lists, be sure to make use of map and filter to return the desired output after appending contents of any txt file into a list!\n",
    "\n",
    "**Note:** You can use list(f) to combine the contents of any file into a list. "
   ]
  },
  {
   "cell_type": "markdown",
   "metadata": {},
   "source": [
    "You have learnt the basics of file reading! Now we will move on to **file writing**, which is very similar to file reading. \n",
    "\n",
    "Before we can write a file, let us create a new txt file and call it 'output.txt'. Anything within this file will be overwritten, so you can leave this file empty. \n",
    "\n",
    "Just like file reading, our Python file must be located within the same directory as this txt file to open it. Below is how a basic file writing function looks like:"
   ]
  },
  {
   "cell_type": "code",
   "execution_count": 4,
   "metadata": {
    "collapsed": true
   },
   "outputs": [],
   "source": [
    "def write_file(filename, text):\n",
    "    with open (filename, 'w') as f:\n",
    "        f.write(text)\n",
    "    f.close()"
   ]
  },
  {
   "cell_type": "markdown",
   "metadata": {},
   "source": [
    "Note that the text you input into the function must be a string type, and will be written into the file we have indicated. \n",
    "\n",
    "We can read and write as many files within the same function instead of creating a separate function for file writing, as long as we pass in the necessary filenames. \n",
    "\n",
    "Here is how you can read and write within the same function:"
   ]
  },
  {
   "cell_type": "code",
   "execution_count": 5,
   "metadata": {
    "collapsed": true
   },
   "outputs": [],
   "source": [
    "def read_and_write_file(filename_1,filename_2):\n",
    "    \n",
    "    with open (filename_1,'r') as f:\n",
    "        lines = f.read()\n",
    "    f.close()\n",
    "    \n",
    "    with open (filename_2, 'w') as f:\n",
    "        f.write(lines)\n",
    "    f.close()\n"
   ]
  },
  {
   "cell_type": "markdown",
   "metadata": {},
   "source": [
    "This is the end of the tutorial, be sure to experiment with file reading and writing on your own!"
   ]
  }
 ],
 "metadata": {
  "celltoolbar": "Edit Metadata",
  "kernelspec": {
   "display_name": "Python 3",
   "language": "python",
   "name": "python3"
  },
  "language_info": {
   "codemirror_mode": {
    "name": "ipython",
    "version": 3
   },
   "file_extension": ".py",
   "mimetype": "text/x-python",
   "name": "python",
   "nbconvert_exporter": "python",
   "pygments_lexer": "ipython3",
   "version": "3.6.4"
  }
 },
 "nbformat": 4,
 "nbformat_minor": 2
}
