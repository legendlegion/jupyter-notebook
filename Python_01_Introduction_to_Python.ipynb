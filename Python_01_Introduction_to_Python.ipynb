{
 "cells": [
  {
   "cell_type": "markdown",
   "metadata": {},
   "source": [
    "# Chapter 01 - Introduction to Python\n",
    "\n",
    "## Syllabus\n",
    "- Understand the different data types: integer, real, char, string and Boolean; and initialise arrays (1-dimensional and 2dimensional). (2.2.1)\n",
    "\n",
    "## Understanding Goals\n",
    "\n",
    "In this chapter, we will explore and discuss:\n",
    "- What is computing and computational thinking\n",
    "- A set of general problem solving strategies\n",
    "\n",
    "At the end of this chapter, you should be able to:\n",
    "- Understand basic data types in python\n",
    "- Understand basic python operators\n",
    "- Understand basic rules and naming convention of variables\n",
    "\n",
    "You should know how to:\n",
    "- Include comments\n",
    "- Use `print()` function to display values onto the screen\n",
    "- Perform type conversion\n",
    "- Declare and initiatlize variables"
   ]
  },
  {
   "cell_type": "markdown",
   "metadata": {},
   "source": [
    "# Section 1 - Computing and Computational Thinking\n",
    "\n",
    "## _1.1 What is Programming?_\n",
    "\n",
    "The process of creating a set of specific instructions for the computer to follow so that it can help you solve a specific problem.\n",
    "\n",
    "A programming language is a formal constructed language designed to communicate instructions to a machine, particularly a computer.\n",
    "\n",
    "## _1.2 What is Computational Thinking_\n",
    "\n",
    "The characteristics that define computational thinking are decomposition, pattern recognition/data representation, generalization/abstraction, algorithms, etc.  \n",
    "Reference: [Wikipedia - Computational Thinking](https://en.wikipedia.org/wiki/Computational_thinking)\n",
    "\n",
    "## _1.3 General Problem Solving Strategies_\n",
    "\n",
    "Here is a list of problem solving strategies that we will be using regularly when solving computing problems.\n",
    "\n",
    "- **Identifying a subtask/Decomposition**  \n",
    "\\- Break a problem into smaller pieces whose outcomes lead to a combined solution.\n",
    "\n",
    "- **Looking for a pattern/Pattern Recognition**  \n",
    "\\- Observe trends by organising data or creating representations.  \n",
    "\\- Pattern recognition is a fundamental concept that involves finding similarities or patterns among smaller, decomposed problems that help in the solving of complex problems more efficiently.\n",
    "\n",
    "- **Predicting and Comparing**  \n",
    "\\- Make conjectures about the output of a program for a given input. Then they confirm whether their conjectures are correct based on the outputs of the actual program.\n",
    "\n",
    "- **Code Tracing and Annotating**  \n",
    "\\- Step through pseudocode or program code to understand and explain what is happening in a particular step of the program.\n",
    "\n",
    "- **Working Backward**  \n",
    "\\- Knowing the output for a certain input, work backward to locate the code which affected the output\n",
    "\n",
    "- **Error Analysis**  \n",
    "\\- Determine and detect errors in a program"
   ]
  },
  {
   "cell_type": "markdown",
   "metadata": {},
   "source": [
    "# Section 2 - Introduction to Python Programming\n",
    "\n",
    "## _2.1 Python as Programming Language_\n",
    "\n",
    "Python is an interpreted, high-level, general-purpose programming language. Created by Guido van Rossum and first released in 1991, Python has a design philosophy that emphasizes code readability, notably using significant whitespace. It provides constructs that enable clear programming on both small and large scales.  \n",
    "Reference: [Wikipedia - Python](https://en.wikipedia.org/wiki/Python_(programming_language))"
   ]
  },
  {
   "cell_type": "markdown",
   "metadata": {},
   "source": [
    "## _2.2 Print and Comment_\n",
    "\n",
    "The `print()` function is able to print the content inside the parentheses to the screen or output device.\n",
    "\n",
    "Comments in Python start with the hash character, `#`, and extend to the end of the physical line. A comment may appear at the start of a line or following whitespace or code, but not within a string literal."
   ]
  },
  {
   "cell_type": "code",
   "execution_count": 49,
   "metadata": {},
   "outputs": [
    {
     "name": "stdout",
     "output_type": "stream",
     "text": [
      "Hello World!\n"
     ]
    }
   ],
   "source": [
    "# Our first program\n",
    "print(\"Hello World!\") # characters enclosed in a pair of quotation marks is called a string, we will learn more about it later"
   ]
  },
  {
   "cell_type": "markdown",
   "metadata": {},
   "source": [
    "# Section 3 - Data Type and Variable\n",
    "\n",
    "## _3.1 Data Type_\n",
    "\n",
    "In computer science and computer programming, a data type is an attribute of data which tells the compiler or interpreter how the programmer intends to use the data.  \n",
    "Reference: [Wikipedia - Data Type](https://en.wikipedia.org/wiki/Data_type)\n",
    "\n",
    "Python has many built-in data types. In this chapter, we will introduce a few basic data types. We will learn more data types as we progress in this course.\n",
    "\n",
    "**`int` - Numeric Data Type**\n",
    "This type stores integers (whole numbers), such as `1`, `5`, `-20`, `1000`, ...\n",
    "\n",
    "**`float` - Numeric Data Type**\n",
    "This data type stores floating point numbers (real numbers), such as `1.5`, `-3.3`, `5000.0`, ...\n",
    "\n",
    "**`str` - Sequence Data Type**\n",
    "This data type stores a sequence of characters, such as `\"Hello World!\"`, `'Good Morning'`, ...\n",
    "\n",
    "**`boolean` - Boolean Data Type**\n",
    "This special data type stores one of the two truth values of logic, it can either take the value of `True` or `False`.\n"
   ]
  },
  {
   "cell_type": "markdown",
   "metadata": {},
   "source": [
    "## _3.2 Variable and Variable Declaration_\n",
    "\n",
    "In elementary mathematics, a variable is a symbol, commonly an alphabetic character (letter (alphabet)), that represents a number.  \n",
    "Reference: [Wikipedia - Variable (Mathematics)](https://en.wikipedia.org/wiki/Variable_(mathematics))\n",
    "\n",
    "For example, in the equation `x + y = 3`, `x` and `y` are two variables.\n",
    "\n",
    "In computer programming, a variable is a storage location (identified by a memory address) paired with an associated symbolic name (an identifier), which contains some known or unknown quantity of information referred to as a value.  \n",
    "Reference: [Wikipedia - Variable (Computer Science)](https://en.wikipedia.org/wiki/Variable_(computer_science))\n",
    "\n",
    "**Assignment Operator `=`**\n",
    "\n",
    "In python, `=` is called the assignment operator. It assigns values from operands on the right side to the operand on the left.  \n",
    "Variable **declaration** happens automatically when you **assign** a value to a variable.\n",
    "\n",
    "For example, `x = 3` means *to assign the value of 3 to the variable named `x`*.\n",
    "\n",
    "*Take special note that `=` is NOT an equal sign and its direction should be strictly followed.*\n",
    "\n",
    "**Naming/Formating Conventions in Python**\n",
    "\n",
    "If you would like to learn more about python coding conventions, you may go to the following website. For this lesson, we shall only focus on the following 2 conventions. We will have a sepearate lesson/notebook to discuss naming/formating conventions for our H2 computing course.  \n",
    "Reference: [PEP 8 -- Style Guide for Python Code](https://www.python.org/dev/peps/pep-0008/)\n",
    "\n",
    "Variable and function names should be lowercase, with words separated by underscores as necessary to improve readability.  \n",
    "For example: `teacher_name`\n",
    "\n",
    "A space should be inserted before and after an operator.  \n",
    "For example: `x = y + 3`"
   ]
  },
  {
   "cell_type": "markdown",
   "metadata": {},
   "source": [
    "### ~ Example 1 ~\n",
    "\n",
    "Take a look at the following sample code. Predict the outcome before executing it."
   ]
  },
  {
   "cell_type": "code",
   "execution_count": 50,
   "metadata": {},
   "outputs": [
    {
     "name": "stdout",
     "output_type": "stream",
     "text": [
      "Teacher Name: Zhou Peng\n",
      "Student details: Xiao Ming 16 4.0 True\n",
      "\n",
      "Type of teacher_name: <class 'str'>\n",
      "Type of gpa: <class 'float'>\n",
      "Type of in_school: <class 'bool'>\n"
     ]
    }
   ],
   "source": [
    "teacher_name = \"Zhou Peng\"\n",
    "student_name = \"Xiao Ming\"\n",
    "age = 16\n",
    "gpa = 4.0\n",
    "in_school = True\n",
    "\n",
    "print(\"Teacher Name:\", teacher_name)\n",
    "print(\"Student details:\", student_name, age, gpa, in_school)\n",
    "print() # this insert an empty line in the output display\n",
    "\n",
    "# type() is a useful function to check the data type of a variable when unsure.\n",
    "print(\"Type of teacher_name:\", type(teacher_name))\n",
    "print(\"Type of gpa:\", type(gpa))\n",
    "print(\"Type of in_school:\", type(in_school))"
   ]
  },
  {
   "cell_type": "markdown",
   "metadata": {},
   "source": [
    "### > _Exercise 1_ <\n",
    "\n",
    "Declare a variable with variable name as `my_phone_model` and bind it with a `string` describing the model of your mobile phone.\n",
    "Declare a variable with variable name as `my_age` and bint it with a `integer` using the value of your own age."
   ]
  },
  {
   "cell_type": "code",
   "execution_count": 51,
   "metadata": {},
   "outputs": [],
   "source": [
    "# your code for Exercise 1\n"
   ]
  },
  {
   "cell_type": "markdown",
   "metadata": {},
   "source": [
    "## _3.3 Typecasting_\n",
    "\n",
    "Sometimes, it is necessary to convert from one data type to another, this process is called typecasting."
   ]
  },
  {
   "cell_type": "markdown",
   "metadata": {},
   "source": [
    "### ~ Example 2 ~\n",
    "\n",
    "Refer to the sample code below to understand how to cast from one data type to another."
   ]
  },
  {
   "cell_type": "code",
   "execution_count": 52,
   "metadata": {},
   "outputs": [
    {
     "name": "stdout",
     "output_type": "stream",
     "text": [
      "5 <class 'int'>\n",
      "5 <class 'str'>\n",
      "5.0 <class 'float'>\n"
     ]
    }
   ],
   "source": [
    "a = 5\n",
    "b = str(a)\n",
    "c = float(b)\n",
    "\n",
    "print (a, type(a))\n",
    "print (b, type(b))\n",
    "print (c, type(c))"
   ]
  },
  {
   "cell_type": "markdown",
   "metadata": {},
   "source": [
    "# Section 4 - Operators\n",
    "\n",
    "Reference: [w3schools - Python Operators](https://www.w3schools.com/python/python_operators.asp)\n",
    "\n",
    "Operators are used to perform operations on variables and values. In this chapter, we will only explore some basic operators and their functions.\n",
    "- Arithmetic operators\n",
    "- Assignment operators\n",
    "- Comparison operators\n",
    "- Logical operators"
   ]
  },
  {
   "cell_type": "markdown",
   "metadata": {},
   "source": [
    "## _4.1 Arithmetic Operators_\n",
    "\n",
    "Arithmetic operators are used with numeric values to perform common mathematical operations.\n",
    "\n",
    "<table class=\"table table-bordered\">\n",
    "    <!-- Header Row -->\n",
    "    <tr>\n",
    "        <th style=\"width:10%; text-align:left\">Operator</th>\n",
    "        <th style=\"width:10%; text-align:left\">Operation</th>\n",
    "        <th style=\"width:10%; text-align:left\">Example</th>\n",
    "        <th style=\"width:20%; text-align:left\">Result</th>\n",
    "        <th style=\"text-align:left\">Description</th>\n",
    "    </tr>\n",
    "    <!-- + -->\n",
    "    <tr>\n",
    "        <td style=\"text-align:left\">+</td>\n",
    "        <td style=\"text-align:left\">Addition</td>\n",
    "        <td style=\"text-align:left\">23 + 3</td>\n",
    "        <td style=\"text-align:left\">26</td>\n",
    "        <td style=\"text-align:left\">Adds values of the two operands.</td>\n",
    "    </tr>\n",
    "    <!-- - -->\n",
    "    <tr>\n",
    "        <td style=\"text-align:left\">-</td>\n",
    "        <td style=\"text-align:left\">Subtraction</td>\n",
    "        <td style=\"text-align:left\">23 - 3</td>\n",
    "        <td style=\"text-align:left\">20</td>\n",
    "        <td style=\"text-align:left\">Subtract the value of the right operand from the value of the left operand.</td>\n",
    "    </tr>\n",
    "    <!-- * -->\n",
    "    <tr>\n",
    "        <td style=\"text-align:left\">*</td>\n",
    "        <td style=\"text-align:left\">Multiplication</td>\n",
    "        <td style=\"text-align:left\">23 * 3</td>\n",
    "        <td style=\"text-align:left\">69</td>\n",
    "        <td style=\"text-align:left\">Multiply values of the two operands</td>\n",
    "    </tr>\n",
    "    <!-- / -->\n",
    "    <tr>\n",
    "        <td style=\"text-align:left\">/</td>\n",
    "        <td style=\"text-align:left\">Division</td>\n",
    "        <td style=\"text-align:left\">23 / 3</td>\n",
    "        <td style=\"text-align:left\">7.666666666666667</td>\n",
    "        <td style=\"text-align:left\">Divide the value of the right operand from the value of the left operand.</td>\n",
    "    </tr>\n",
    "    <!-- // -->\n",
    "    <tr>\n",
    "        <td style=\"text-align:left\">//</td>\n",
    "        <td style=\"text-align:left\">Floor Division</td>\n",
    "        <td style=\"text-align:left\">23 // 3</td>\n",
    "        <td style=\"text-align:left\">7</td>\n",
    "        <td style=\"text-align:left\">Divide the value of the right operand from the value of the left operand, return the quotient value as an integer.</td>\n",
    "    </tr>\n",
    "    <!-- % -->\n",
    "    <tr>\n",
    "        <td style=\"text-align:left\">%</td>\n",
    "        <td style=\"text-align:left\">Modulus</td>\n",
    "        <td style=\"text-align:left\">23 % 3</td>\n",
    "        <td style=\"text-align:left\">2</td>\n",
    "        <td style=\"text-align:left\">Divide the value of the right operand from the value of the left operand, return the remainder value as an integer.</td>\n",
    "    </tr>\n",
    "    <!-- ** -->\n",
    "    <tr>\n",
    "        <td style=\"text-align:left\">**</td>\n",
    "        <td style=\"text-align:left\">Exponentiation</td>\n",
    "        <td style=\"text-align:left\">23 ** 3</td>\n",
    "        <td style=\"text-align:left\">12167</td>\n",
    "        <td style=\"text-align:left\">Raise the value of the left operand to the power of the value of the right operand.</td>\n",
    "    </tr>\n",
    "</table>"
   ]
  },
  {
   "cell_type": "markdown",
   "metadata": {},
   "source": [
    "### ~ Example 3 ~\n",
    "\n",
    "Take a look at the following sample code. Predict the outcome before executing it."
   ]
  },
  {
   "cell_type": "code",
   "execution_count": 53,
   "metadata": {},
   "outputs": [
    {
     "name": "stdout",
     "output_type": "stream",
     "text": [
      "26 <class 'int'>\n",
      "20 <class 'int'>\n",
      "69 <class 'int'>\n",
      "7.666666666666667 <class 'float'>\n",
      "7 <class 'int'>\n",
      "2 <class 'int'>\n",
      "12167 <class 'int'>\n"
     ]
    }
   ],
   "source": [
    "a = 23\n",
    "b = 3\n",
    "\n",
    "print (a + b, type(a + b))\n",
    "print (a - b, type(a - b))\n",
    "print (a * b, type(a * b))\n",
    "print (a / b, type(a / b))\n",
    "print (a // b, type(a // b))\n",
    "print (a % b, type(a % b))\n",
    "print (a ** b, type(a ** b))"
   ]
  },
  {
   "cell_type": "markdown",
   "metadata": {},
   "source": [
    "### ~ Example 4 ~\n",
    "\n",
    "**Operator Precedence**\n",
    "When more than one operator appears in an expression, the order of evaluation depends on the rules of precedence. Python follows the same precedence rules for its mathematical operators that mathematics does.\n",
    "\n",
    "1. `+` and `-` has the lowest level of precedence.\n",
    "2. `*`, `/`, `//`, `%` has a higher precedence than `+` and `-`.\n",
    "3. `**` has an even higher precedence\n",
    "4. Parentheses, `(` and `)` has the highest level of precedence.\n",
    "\n",
    "Take a look at the following sample code. Predict the outcome before executing it."
   ]
  },
  {
   "cell_type": "code",
   "execution_count": 54,
   "metadata": {},
   "outputs": [
    {
     "name": "stdout",
     "output_type": "stream",
     "text": [
      "30 <class 'int'>\n"
     ]
    }
   ],
   "source": [
    "a = 23\n",
    "b = 3\n",
    "\n",
    "c = a + a // b ** (4 - b)\n",
    "print(c, type(c))"
   ]
  },
  {
   "cell_type": "markdown",
   "metadata": {},
   "source": [
    "### ~ Example 5 ~\n",
    "\n",
    "It is important to note that when we mix `int` and `float` values in an arithmetic expression, the result will be a value of `float` data type.\n",
    "\n",
    "Take a look at the following sample code. Predict the outcome before executing it."
   ]
  },
  {
   "cell_type": "code",
   "execution_count": 55,
   "metadata": {},
   "outputs": [
    {
     "name": "stdout",
     "output_type": "stream",
     "text": [
      "26.0 <class 'float'>\n",
      "7.0 <class 'float'>\n",
      "2.0 <class 'float'>\n",
      "12167.0 <class 'float'>\n"
     ]
    }
   ],
   "source": [
    "a = 23.0\n",
    "b = 3\n",
    "\n",
    "print(a + b, type(a + b))\n",
    "print (a // b, type(a // b))\n",
    "print (a % b, type(a % b))\n",
    "print (a ** b, type(a ** b))"
   ]
  },
  {
   "cell_type": "markdown",
   "metadata": {},
   "source": [
    "## _4.2 Assignment Operators_\n",
    "\n",
    "Assignment operators are used to assign values to variables. If arithmatic operator is present before the `=` operator, it means that the variable will perform the respective arithmatic operation to itself before reassigning the updated value to the variable.\n",
    "\n",
    "For example, if we know that `x` has a value of `3`.  \n",
    "`x += 5` is equivilant to `x = x + 5`.  \n",
    "So after this operation, x will has an updated value of `8`.\n",
    "\n",
    "<table class=\"table table-bordered\">\n",
    "    <!-- Header Row -->\n",
    "    <tr>\n",
    "        <th style=\"width:20%; text-align:left\">Operator</th>\n",
    "        <th style=\"width:20%; text-align:left\">Example</th>\n",
    "        <th style=\"text-align:left\">Equivilant Expression</th>\n",
    "    </tr>\n",
    "    <!-- = -->\n",
    "    <tr>\n",
    "        <td style=\"width:20%; text-align:left\">=</td>\n",
    "        <td style=\"width:20%; text-align:left\">x = 5</td>\n",
    "        <td style=\"text-align:left\">x = 5</td>\n",
    "    </tr>\n",
    "    <!-- += -->\n",
    "    <tr>\n",
    "        <td style=\"width:20%; text-align:left\">+=</td>\n",
    "        <td style=\"width:20%; text-align:left\">x += 5</td>\n",
    "        <td style=\"text-align:left\">x = x + 5</td>\n",
    "    </tr>\n",
    "    <!-- -= -->\n",
    "    <tr>\n",
    "        <td style=\"width:20%; text-align:left\">-=</td>\n",
    "        <td style=\"width:20%; text-align:left\">x -= 5</td>\n",
    "        <td style=\"text-align:left\">x = x - 5</td>\n",
    "    </tr>\n",
    "    <!-- *= -->\n",
    "    <tr>\n",
    "        <td style=\"width:20%; text-align:left\">*=</td>\n",
    "        <td style=\"width:20%; text-align:left\">x *= 5</td>\n",
    "        <td style=\"text-align:left\">x = x * 5</td>\n",
    "    </tr>\n",
    "    <!-- /= -->\n",
    "    <tr>\n",
    "        <td style=\"width:20%; text-align:left\">/=</td>\n",
    "        <td style=\"width:20%; text-align:left\">x /= 5</td>\n",
    "        <td style=\"text-align:left\">x = x / 5</td>\n",
    "    </tr>\n",
    "    <!-- //= -->\n",
    "    <tr>\n",
    "        <td style=\"width:20%; text-align:left\">//=</td>\n",
    "        <td style=\"width:20%; text-align:left\">x //= 5</td>\n",
    "        <td style=\"text-align:left\">x = x // 5</td>\n",
    "    </tr>\n",
    "    <!-- %= -->\n",
    "    <tr>\n",
    "        <td style=\"width:20%; text-align:left\">%=</td>\n",
    "        <td style=\"width:20%; text-align:left\">x %= 5</td>\n",
    "        <td style=\"text-align:left\">x = x % 5</td>\n",
    "    </tr>\n",
    "    <!-- **= -->\n",
    "    <tr>\n",
    "        <td style=\"width:20%; text-align:left\">**=</td>\n",
    "        <td style=\"width:20%; text-align:left\">x **= 5</td>\n",
    "        <td style=\"text-align:left\">x = x ** 5</td>\n",
    "    </tr>\n",
    "</table>"
   ]
  },
  {
   "cell_type": "markdown",
   "metadata": {},
   "source": [
    "### ~ Example 6 ~\n",
    "\n",
    "Take a look at the following sample code. Predict the outcome before executing it."
   ]
  },
  {
   "cell_type": "code",
   "execution_count": 56,
   "metadata": {},
   "outputs": [
    {
     "name": "stdout",
     "output_type": "stream",
     "text": [
      "8 <class 'int'>\n",
      "1.6 <class 'float'>\n",
      "8.0 <class 'float'>\n",
      "1.0 <class 'float'>\n"
     ]
    }
   ],
   "source": [
    "x = 3\n",
    "x += 5\n",
    "print(x, type(x))\n",
    "x /= 5\n",
    "print(x, type(x))\n",
    "x *= 5\n",
    "print(x, type(x))\n",
    "x = x // 5\n",
    "print(x, type(x))"
   ]
  },
  {
   "cell_type": "markdown",
   "metadata": {},
   "source": [
    "## _4.2 Comparison Operators_\n",
    "\n",
    "Comparison operators are used to compare two values. The result will be a `boolean` value, either `True` or `False`.\n",
    "\n",
    "In the following examples, `x` takes value of `5`.\n",
    "\n",
    "<table class=\"table table-bordered\">\n",
    "    <!-- Header Row -->\n",
    "    <tr>\n",
    "        <th style=\"width:20%; text-align:left\">Operator</th>\n",
    "        <th style=\"width:20%; text-align:left\">Operation</th>\n",
    "        <th style=\"width:20%; text-align:left\">Example</th>\n",
    "        <th style=\"text-align:left\">Result</th>\n",
    "    </tr>\n",
    "    <!-- == -->\n",
    "    <tr>\n",
    "        <td style=\"width:20%; text-align:left\">==</td>\n",
    "        <td style=\"width:20%; text-align:left\">Equal to</td>\n",
    "        <td style=\"width:20%; text-align:left\">x == 4</td>\n",
    "        <td style=\"text-align:left\">False</td>\n",
    "    </tr>\n",
    "    <!-- != -->\n",
    "    <tr>\n",
    "        <td style=\"width:20%; text-align:left\">!=</td>\n",
    "        <td style=\"width:20%; text-align:left\">Not equal to</td>\n",
    "        <td style=\"width:20%; text-align:left\">x != 4</td>\n",
    "        <td style=\"text-align:left\">True</td>\n",
    "    </tr>\n",
    "    <!-- > -->\n",
    "    <tr>\n",
    "        <td style=\"width:20%; text-align:left\">></td>\n",
    "        <td style=\"width:20%; text-align:left\">Greater than</td>\n",
    "        <td style=\"width:20%; text-align:left\">x > 4</td>\n",
    "        <td style=\"text-align:left\">True</td>\n",
    "    </tr>\n",
    "    <!-- < -->\n",
    "    <tr>\n",
    "        <td style=\"width:20%; text-align:left\"><</td>\n",
    "        <td style=\"width:20%; text-align:left\">Less than</td>\n",
    "        <td style=\"width:20%; text-align:left\">x < 4</td>\n",
    "        <td style=\"text-align:left\">False</td>\n",
    "    </tr>\n",
    "    <!-- >= -->\n",
    "    <tr>\n",
    "        <td style=\"width:20%; text-align:left\">>=</td>\n",
    "        <td style=\"width:20%; text-align:left\">\tGreater than or equal to</td>\n",
    "        <td style=\"width:20%; text-align:left\">x >= 4</td>\n",
    "        <td style=\"text-align:left\">True</td>\n",
    "    </tr>\n",
    "    <!-- <= -->\n",
    "    <tr>\n",
    "        <td style=\"width:20%; text-align:left\"><=</td>\n",
    "        <td style=\"width:20%; text-align:left\">Less than or equal to</td>\n",
    "        <td style=\"width:20%; text-align:left\">x <= 4</td>\n",
    "        <td style=\"text-align:left\">False</td>\n",
    "    </tr>\n",
    "</table>"
   ]
  },
  {
   "cell_type": "markdown",
   "metadata": {},
   "source": [
    "## _4.2 Logical Operators_\n",
    "\n",
    "Logical operators are used to combine conditional statements. We will explore and learn a bit more about truth table in a later chapter.\n",
    "\n",
    "In the following examples, `x` takes value of `5`.\n",
    "\n",
    "<table class=\"table table-bordered\">\n",
    "    <!-- Header Row -->\n",
    "    <tr>\n",
    "        <th style=\"width:20%; text-align:left\">Operator</th>\n",
    "        <th style=\"width:20%; text-align:left\">Description</th>\n",
    "        <th style=\"width:20%; text-align:left\">Example</th>\n",
    "        <th style=\"text-align:left\">Result</th>\n",
    "    </tr>\n",
    "    <!-- and -->\n",
    "    <tr>\n",
    "        <td style=\"width:20%; text-align:left\">and</td>\n",
    "        <td style=\"width:20%; text-align:left\">Returns True only if both statements are true.</td>\n",
    "        <td style=\"width:20%; text-align:left\">x > 3 and x % 3 == 2</td>\n",
    "        <td style=\"text-align:left\">True</td>\n",
    "    </tr>\n",
    "    <!-- or -->\n",
    "    <tr>\n",
    "        <td style=\"width:20%; text-align:left\">or</td>\n",
    "        <td style=\"width:20%; text-align:left\">Returns True as long as either one of the states is true.</td>\n",
    "        <td style=\"width:20%; text-align:left\">x > 3 or x // 3 == 2</td>\n",
    "        <td style=\"text-align:left\">True</td>\n",
    "    </tr>\n",
    "    <!-- not -->\n",
    "    <tr>\n",
    "        <td style=\"width:20%; text-align:left\">not</td>\n",
    "        <td style=\"width:20%; text-align:left\">Reverse the conditional value.</td>\n",
    "        <td style=\"width:20%; text-align:left\">not(x > 3)</td>\n",
    "        <td style=\"text-align:left\">False</td>\n",
    "    </tr>\n",
    "</table>"
   ]
  },
  {
   "cell_type": "markdown",
   "metadata": {},
   "source": [
    "### ~ Example 7 ~\n",
    "\n",
    "Take a look at the following sample code. Predict the outcome before executing it."
   ]
  },
  {
   "cell_type": "code",
   "execution_count": 57,
   "metadata": {},
   "outputs": [
    {
     "name": "stdout",
     "output_type": "stream",
     "text": [
      "True\n",
      "True\n",
      "False\n"
     ]
    }
   ],
   "source": [
    "x = 5\n",
    "print(x > 3 and x % 3 == 2)\n",
    "print(x > 3 or x // 3 == 2)\n",
    "print(not(x > 3))"
   ]
  },
  {
   "cell_type": "markdown",
   "metadata": {},
   "source": [
    "# Section 5 - Conclusion\n",
    "\n",
    "In this chapter, we have learnt about data types, variables and operators in Python. It is important to understand the details of how these elements interact/work with each other, just like learning grammar of a new language. So please feel free to explore and test out for yourself any possible combinations, and ask questions when in doubt.\n",
    "\n",
    "Happy Coding!"
   ]
  },
  {
   "cell_type": "markdown",
   "metadata": {},
   "source": [
    "## 5.1 Questions for self-exploration:\n",
    "\n",
    "1. What is the advantage of allowing both single and double quotation marks to represent `str` data type?\n",
    "2. How to print a string containing `\"` and `'` as part of the content?\n",
    "3. How to print a string with # inside?\n",
    "4. In Jupyter notebook, what's the difference between the following 2 cells? How about running the same code in IDLE editor?"
   ]
  },
  {
   "cell_type": "code",
   "execution_count": 58,
   "metadata": {},
   "outputs": [
    {
     "data": {
      "text/plain": [
       "5"
      ]
     },
     "execution_count": 58,
     "metadata": {},
     "output_type": "execute_result"
    }
   ],
   "source": [
    "# Compare the result of these two cells.\n",
    "x = 5\n",
    "x"
   ]
  },
  {
   "cell_type": "code",
   "execution_count": 59,
   "metadata": {},
   "outputs": [
    {
     "name": "stdout",
     "output_type": "stream",
     "text": [
      "5\n"
     ]
    }
   ],
   "source": [
    "# Compare the result of these two cells.\n",
    "x = 5\n",
    "print(x)"
   ]
  },
  {
   "cell_type": "markdown",
   "metadata": {},
   "source": [
    "## 5.2 References\n",
    "\n",
    "1. [Wekipedia](https://en.wikipedia.org)\n",
    "2. [PEP 8 -- Style Guide for Python Code](https://www.python.org/dev/peps/pep-0008/)\n",
    "3. [w3schools - Python Operators](https://www.w3schools.com/python/python_operators.asp)"
   ]
  }
 ],
 "metadata": {
  "kernelspec": {
   "display_name": "Python 3",
   "language": "python",
   "name": "python3"
  },
  "language_info": {
   "codemirror_mode": {
    "name": "ipython",
    "version": 3
   },
   "file_extension": ".py",
   "mimetype": "text/x-python",
   "name": "python",
   "nbconvert_exporter": "python",
   "pygments_lexer": "ipython3",
   "version": "3.7.0"
  }
 },
 "nbformat": 4,
 "nbformat_minor": 2
}
