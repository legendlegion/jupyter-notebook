{
 "cells": [
  {
   "cell_type": "markdown",
   "metadata": {},
   "source": [
    "# **Python 01 - Introduction to Python**"
   ]
  },
  {
   "cell_type": "markdown",
   "metadata": {},
   "source": [
    "## Understanding Goals\n",
    "\n",
    "At the end of this chapter, you should be able to:\n",
    "\n",
    "- Understand the different data types: integer, real, char, string and Boolean; and initialise arrays (1-dimensional and 2dimensional). (2.2.1)\n",
    "- Use common library functions for input/output, strings and mathematical operations. (2.2.2)\n",
    "- Apply the fundamental programming constructs to control the flow of program execution: - Sequence - Selection - Iteration (2.2.3)\n",
    "- Use functions and procedures to modularise problem into chunks of code. (2.2.4)\n",
    "- Understand the concept of recursion. 2.2.6 Trace the steps and list the results of recursive and nonrecursive programs. (2.2.5)\n",
    "- Understand the use of stacks in recursive programming. (2.2.7)"
   ]
  },
  {
   "cell_type": "markdown",
   "metadata": {},
   "source": [
    "Declare and initialise variables.\n",
    "Know some basic data types in Python (int, float, str).\n",
    "Perform type conversion.\n",
    "Remember and apply the rules and naming conventions of variables.\n",
    "Use print to display something to the screen and use input to prompt the user.\n",
    "Use effectively the various arithmetic operators in Python, and to apply proper operator precedence\n",
    "and associativity laws.\n",
    "Understand and apply Python naming conventions for variables.\n",
    "Include comments in your code."
   ]
  },
  {
   "cell_type": "code",
   "execution_count": null,
   "metadata": {},
   "outputs": [],
   "source": []
  },
  {
   "cell_type": "markdown",
   "metadata": {},
   "source": [
    "## **Section 1 - Computing and Computational Thinking**\n",
    "\n",
    "### **_1.1 What is Programming?_**\n",
    "\n",
    "The process of creating a set of specific instructions for the computer to follow so that it can help you solve a specific problem.\n",
    "\n",
    "The characteristics that define computational thinking are decomposition, pattern recognition / data representation, generalization/abstraction, algorithms, etc. Reference: [Wikipedia - Computational Thinking](https://en.wikipedia.org/wiki/Computational_thinking)\n",
    "\n",
    "Here is a list of problem solving strategies that we will be using regularly when solving computing problems.\n",
    "\n",
    "- **Identifying a subtask/Decomposition**  \n",
    "\\- Break a problem into smaller pieces whose outcomes lead to a combined solution.\n",
    "\n",
    "- **Looking for a pattern/Pattern Recognition**  \n",
    "\\- Observe trends by organising data or creating representations.\n",
    "\\- Pattern recognition is a fundamental concept that involves finding similarities or patterns among smaller, decomposed problems that help in the solving of complex problems more efficiently.\n",
    "\n",
    "- **Predicting and comparing**  \n",
    "\\- Make conjectures about the output of a program for a given input. Then they confirm whether their conjectures are correct based on the outputs of the actual program.\n",
    "\n",
    "- **Code Tracing and Annotating**  \n",
    "\\- Step through pseudocode or program code to understand and explain what is happening in a particular step of the program.\n",
    "\n",
    "- **Working Backward**  \n",
    "\\- Knowing the output for a certain input, work backward to locate the code which affected the output\n",
    "\n",
    "- **Error Analysis**  \n",
    "\\- Determine and detect errors in a program using pattern recognition and "
   ]
  },
  {
   "cell_type": "code",
   "execution_count": null,
   "metadata": {},
   "outputs": [],
   "source": []
  },
  {
   "cell_type": "markdown",
   "metadata": {},
   "source": [
    "## References\n",
    "\n"
   ]
  }
 ],
 "metadata": {
  "kernelspec": {
   "display_name": "Python 3",
   "language": "python",
   "name": "python3"
  },
  "language_info": {
   "codemirror_mode": {
    "name": "ipython",
    "version": 3
   },
   "file_extension": ".py",
   "mimetype": "text/x-python",
   "name": "python",
   "nbconvert_exporter": "python",
   "pygments_lexer": "ipython3",
   "version": "3.7.0"
  }
 },
 "nbformat": 4,
 "nbformat_minor": 2
}
