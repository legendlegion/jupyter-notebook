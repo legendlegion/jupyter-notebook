{
 "cells": [
  {
   "cell_type": "markdown",
   "metadata": {},
   "source": [
    "# File Reading Tutorial"
   ]
  },
  {
   "cell_type": "markdown",
   "metadata": {},
   "source": [
    "File reading is **reading, writing, or manipulating** data within a file.\n",
    "\n",
    "Before we can read a file, we need to make sure we have a file to work with. To do this, we’ll open up a text editor and create a new txt file, let's call it 'input.txt'.\n",
    "\n",
    "Your Python file must be located within the same directory as the txt file to open it.\n",
    "\n",
    "We will then use Python's open() function to open our days .txt file. The open() function requires as its first argument the file path. The function also allows for other parameters that specifies the mode in which the file is opened. The mode you choose will depend on what you wish to do with the file. \n",
    "\n",
    "These are some parameters which we will use:\n",
    "\n",
    "* 'r' : use for reading\n",
    "* 'w' : use for writing\n",
    "\n",
    "In this example, we want to read from the file, so we will use the 'r' mode. We will use the open() function to open the days.txt file and assign it to the variable days_file.\n",
    "\n",
    "The function will start like this:\n",
    "\n"
   ]
  },
  {
   "cell_type": "code",
   "execution_count": null,
   "metadata": {},
   "outputs": [],
   "source": [
    "def read_file(filename):\n",
    "    with open (filename,'r') as f:"
   ]
  },
  {
   "cell_type": "markdown",
   "metadata": {},
   "source": [
    "Note that filename must be a string which corresponds to the name of the .txt file, and 'f' is the name of the object we have assigned the file to. 'f' is now a file object with methods, such as .read(), which will go through and store the contents within the file object. We must assign whatever is read within a variable."
   ]
  },
  {
   "cell_type": "code",
   "execution_count": null,
   "metadata": {},
   "outputs": [],
   "source": [
    "lines = f.read()"
   ]
  },
  {
   "cell_type": "markdown",
   "metadata": {},
   "source": [
    "Closing a file makes sure that the connection between the file being read and the file which is reading is ended. Closing files also ensures that other programs are able to access them and keeps your data safe. So, it is a good habit to close your files. "
   ]
  },
  {
   "cell_type": "code",
   "execution_count": null,
   "metadata": {},
   "outputs": [],
   "source": [
    "f.close()"
   ]
  },
  {
   "cell_type": "markdown",
   "metadata": {},
   "source": [
    "To output the information within the file, remember to return the variable storing the data. When put together, a file reading function will look like this:"
   ]
  },
  {
   "cell_type": "code",
   "execution_count": 4,
   "metadata": {},
   "outputs": [
    {
     "name": "stdout",
     "output_type": "stream",
     "text": [
      "12\n",
      "32\n",
      "134\n",
      "123\n",
      "21\n",
      "12\n",
      "5\n",
      "6\n",
      "21\n",
      "\n"
     ]
    }
   ],
   "source": [
    "def read_file(filename):\n",
    "    \n",
    "    with open (filename,'r') as f:\n",
    "        lines = f.read()\n",
    "    f.close()\n",
    "    \n",
    "    return lines\n",
    "print(read_file('input.txt'))"
   ]
  },
  {
   "cell_type": "markdown",
   "metadata": {},
   "source": [
    "Another way to read a file is using lists and the method .readline(), which reads a single line within the file each time it is called. When we call it again, it proceeds to the next line. We can create a list and append into it each line of the file. The while loop will continue to run until the end of the file, where there is no more text and f.readline() is 'None'.\n",
    "\n",
    "**Note:** Even if there are empty lines in between lines of text, the while loop will not stop running."
   ]
  },
  {
   "cell_type": "code",
   "execution_count": null,
   "metadata": {},
   "outputs": [],
   "source": [
    "def read_file_line_by_line(filename):\n",
    "    lst = []\n",
    "    with open (filename,'r') as f:\n",
    "        while line:\n",
    "            result.append(line)\n",
    "            line = f.readline()\n",
    "    f.close()\n",
    "    return lst"
   ]
  },
  {
   "cell_type": "markdown",
   "metadata": {},
   "source": [
    "However, each line will end with '\\n'. This is considered as a single letter, known as a line feed, which indicates the start of a new line. Hence, we can leave it out by appending up to the last letter of each line."
   ]
  },
  {
   "cell_type": "code",
   "execution_count": null,
   "metadata": {},
   "outputs": [],
   "source": [
    "def read_file_line_by_line(filename):\n",
    "    result = []\n",
    "    with open (filename,'r') as f:\n",
    "        # assigns line \n",
    "        line = f.readline()\n",
    "        \n",
    "        # loops when line is not empty and the last character is a line feed\n",
    "        while line and line[-1]=='\\n': \n",
    "            if len(line) > 1:\n",
    "                # add to result when line is not empty (excluding the line feed)\n",
    "                # the line feed character is also removed\n",
    "                result.append(line[:-1])\n",
    "            line = f.readline()\n",
    "        \n",
    "        if line:\n",
    "            # line has something and is the last line of the text file\n",
    "            # It will not have a line feed character because it is the last line\n",
    "            result.append(line)\n",
    "    f.close()\n",
    "    return result"
   ]
  },
  {
   "cell_type": "code",
   "execution_count": null,
   "metadata": {},
   "outputs": [],
   "source": []
  }
 ],
 "metadata": {
  "kernelspec": {
   "display_name": "Python 3",
   "language": "python",
   "name": "python3"
  },
  "language_info": {
   "codemirror_mode": {
    "name": "ipython",
    "version": 3
   },
   "file_extension": ".py",
   "mimetype": "text/x-python",
   "name": "python",
   "nbconvert_exporter": "python",
   "pygments_lexer": "ipython3",
   "version": "3.6.4"
  }
 },
 "nbformat": 4,
 "nbformat_minor": 2
}
